{
 "cells": [
  {
   "cell_type": "code",
   "execution_count": 0,
   "metadata": {
    "application/vnd.databricks.v1+cell": {
     "cellMetadata": {
      "byteLimit": 2048000,
      "rowLimit": 10000
     },
     "inputWidgets": {},
     "nuid": "f1001116-a1d2-49af-82e5-1f51dc8f7d69",
     "showTitle": false,
     "title": ""
    }
   },
   "outputs": [],
   "source": [
    "dbutils.widgets.combobox(name='FruitsCB',defaultValue='Avocado',choices=['Apple','Banana','Cherry'], label='Fruits Combo Box')\n",
    "dbutils.widgets.dropdown(name='FruitsDD',defaultValue='Apple',choices=['Apple','Banana','Cherry'], label='Fruits Dropdown Box')\n",
    "dbutils.widgets.multiselect(name='FruitsMS',defaultValue='Apple',choices=['Apple','Banana','Cherry'], label='Fruits Multiselect Box')\n",
    "dbutils.widgets.text(name='FruitsTxt',defaultValue='Apple',label='Fruits Text Box')"
   ]
  },
  {
   "cell_type": "code",
   "execution_count": 0,
   "metadata": {
    "application/vnd.databricks.v1+cell": {
     "cellMetadata": {
      "byteLimit": 2048000,
      "rowLimit": 10000
     },
     "inputWidgets": {},
     "nuid": "b3f0a852-3322-44d5-af24-9d2f2e71fb5f",
     "showTitle": false,
     "title": ""
    }
   },
   "outputs": [
    {
     "output_type": "stream",
     "name": "stdout",
     "output_type": "stream",
     "text": [
      "FruitsCB Avocado\nFruitsDD Apple\nFruitsMS Apple\nFruitsTxt Apple\n"
     ]
    }
   ],
   "source": [
    "print('FruitsCB', dbutils.widgets.get('FruitsCB'))\n",
    "print('FruitsDD', dbutils.widgets.get('FruitsDD'))\n",
    "print('FruitsMS', dbutils.widgets.get('FruitsMS'))\n",
    "print('FruitsTxt', dbutils.widgets.get('FruitsTxt'))"
   ]
  },
  {
   "cell_type": "code",
   "execution_count": 0,
   "metadata": {
    "application/vnd.databricks.v1+cell": {
     "cellMetadata": {},
     "inputWidgets": {},
     "nuid": "6a1372b4-e277-43cb-b737-d0529b561e34",
     "showTitle": false,
     "title": ""
    }
   },
   "outputs": [],
   "source": []
  }
 ],
 "metadata": {
  "application/vnd.databricks.v1+notebook": {
   "dashboards": [],
   "language": "python",
   "notebookMetadata": {
    "pythonIndentUnit": 4
   },
   "notebookName": "dbutils Widgets Notebook",
   "widgets": {
    "FruitsCB": {
     "currentValue": "Avocado",
     "nuid": "1fd49e16-dcab-4118-8f5e-bcb983edb5ed",
     "typedWidgetInfo": null,
     "widgetInfo": {
      "widgetType": "combobox",
      "defaultValue": "Avocado",
      "label": "Fruits Combo Box",
      "name": "FruitsCB",
      "options": {
       "widgetType": "dropdown",
       "autoCreated": null,
       "choices": [
        "Apple",
        "Banana",
        "Cherry"
       ]
      }
     }
    },
    "FruitsDD": {
     "currentValue": "Apple",
     "nuid": "2540dca9-06fe-4e9e-8cf9-f9bff472f5d7",
     "typedWidgetInfo": null,
     "widgetInfo": {
      "widgetType": "dropdown",
      "defaultValue": "Apple",
      "label": "Fruits Dropdown Box",
      "name": "FruitsDD",
      "options": {
       "widgetType": "dropdown",
       "autoCreated": null,
       "choices": [
        "Apple",
        "Banana",
        "Cherry"
       ]
      }
     }
    },
    "FruitsMS": {
     "currentValue": "Apple",
     "nuid": "a3400c1d-a8c7-46b7-976a-be698154194d",
     "typedWidgetInfo": null,
     "widgetInfo": {
      "widgetType": "multiselect",
      "defaultValue": "Apple",
      "label": "Fruits Multiselect Box",
      "name": "FruitsMS",
      "options": {
       "widgetType": "dropdown",
       "autoCreated": null,
       "choices": [
        "Apple",
        "Banana",
        "Cherry"
       ]
      }
     }
    },
    "FruitsTxt": {
     "currentValue": "Apple",
     "nuid": "cd30f2d1-4396-4cf2-afa5-92c723abc3d4",
     "typedWidgetInfo": null,
     "widgetInfo": {
      "widgetType": "text",
      "defaultValue": "Apple",
      "label": "Fruits Text Box",
      "name": "FruitsTxt",
      "options": {
       "widgetType": "text",
       "autoCreated": null,
       "validationRegex": null
      }
     }
    }
   }
  }
 },
 "nbformat": 4,
 "nbformat_minor": 0
}
