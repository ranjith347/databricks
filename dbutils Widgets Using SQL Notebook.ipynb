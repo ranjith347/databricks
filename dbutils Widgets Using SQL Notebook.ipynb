{
 "cells": [
  {
   "cell_type": "code",
   "execution_count": 0,
   "metadata": {
    "application/vnd.databricks.v1+cell": {
     "cellMetadata": {
      "byteLimit": 2048000,
      "rowLimit": 10000
     },
     "inputWidgets": {},
     "nuid": "8e600028-ff8b-49e4-9340-91a2ff796087",
     "showTitle": false,
     "title": ""
    }
   },
   "outputs": [
    {
     "output_type": "display_data",
     "data": {
      "text/html": [
       "<style scoped>\n",
       "  .table-result-container {\n",
       "    max-height: 300px;\n",
       "    overflow: auto;\n",
       "  }\n",
       "  table, th, td {\n",
       "    border: 1px solid black;\n",
       "    border-collapse: collapse;\n",
       "  }\n",
       "  th, td {\n",
       "    padding: 5px;\n",
       "  }\n",
       "  th {\n",
       "    text-align: left;\n",
       "  }\n",
       "</style><div class='table-result-container'><table class='table-result'><thead style='background-color: white'><tr><th>name</th><th>class</th><th>sec</th><th>roll no</th><th>marks</th></tr></thead><tbody><tr><td>abhi.ram</td><td>10</td><td>A</td><td>1</td><td>100</td></tr><tr><td>bharat.kumar</td><td>10</td><td>A</td><td>2</td><td>90</td></tr><tr><td>charan.ram</td><td>10</td><td>A</td><td>3</td><td>80</td></tr><tr><td>dinesh.kumar</td><td>10</td><td>B</td><td>4</td><td>70</td></tr><tr><td>eshwer.sundar</td><td>10</td><td>B</td><td>5</td><td>60</td></tr><tr><td>faraz.shaikh</td><td>10</td><td>B</td><td>6</td><td>50</td></tr></tbody></table></div>"
      ]
     },
     "metadata": {
      "application/vnd.databricks.v1+output": {
       "addedWidgets": {},
       "aggData": [],
       "aggError": "",
       "aggOverflow": false,
       "aggSchema": [],
       "aggSeriesLimitReached": false,
       "aggType": "",
       "arguments": {},
       "columnCustomDisplayInfos": {},
       "data": [
        [
         "abhi.ram",
         "10",
         "A",
         "1",
         "100"
        ],
        [
         "bharat.kumar",
         "10",
         "A",
         "2",
         "90"
        ],
        [
         "charan.ram",
         "10",
         "A",
         "3",
         "80"
        ],
        [
         "dinesh.kumar",
         "10",
         "B",
         "4",
         "70"
        ],
        [
         "eshwer.sundar",
         "10",
         "B",
         "5",
         "60"
        ],
        [
         "faraz.shaikh",
         "10",
         "B",
         "6",
         "50"
        ]
       ],
       "datasetInfos": [],
       "dbfsResultPath": null,
       "isJsonSchema": true,
       "metadata": {},
       "overflow": false,
       "plotOptions": {
        "customPlotOptions": {},
        "displayType": "table",
        "pivotAggregation": null,
        "pivotColumns": null,
        "xColumns": null,
        "yColumns": null
       },
       "removedWidgets": [],
       "schema": [
        {
         "metadata": "{}",
         "name": "name",
         "type": "\"string\""
        },
        {
         "metadata": "{}",
         "name": "class",
         "type": "\"string\""
        },
        {
         "metadata": "{}",
         "name": "sec",
         "type": "\"string\""
        },
        {
         "metadata": "{}",
         "name": "roll no",
         "type": "\"string\""
        },
        {
         "metadata": "{}",
         "name": "marks",
         "type": "\"string\""
        }
       ],
       "type": "table"
      }
     },
     "output_type": "display_data"
    }
   ],
   "source": [
    "%python\n",
    "df = spark.read.format(\"csv\").option(\"header\", \"true\").load(\"dbfs:/FileStore/shared_uploads/mranjith347@gmail.com/UnpivotExampleDataNew.csv\")\n",
    "display(df)\n",
    "df.createOrReplaceTempView('Classroom')"
   ]
  },
  {
   "cell_type": "code",
   "execution_count": 0,
   "metadata": {
    "application/vnd.databricks.v1+cell": {
     "cellMetadata": {
      "byteLimit": 2048000,
      "rowLimit": 10000
     },
     "inputWidgets": {},
     "nuid": "5482ceb9-5324-4f4d-8f7b-c61fc7f4af77",
     "showTitle": false,
     "title": ""
    }
   },
   "outputs": [
    {
     "output_type": "display_data",
     "data": {
      "text/html": [
       "<style scoped>\n",
       "  .table-result-container {\n",
       "    max-height: 300px;\n",
       "    overflow: auto;\n",
       "  }\n",
       "  table, th, td {\n",
       "    border: 1px solid black;\n",
       "    border-collapse: collapse;\n",
       "  }\n",
       "  th, td {\n",
       "    padding: 5px;\n",
       "  }\n",
       "  th {\n",
       "    text-align: left;\n",
       "  }\n",
       "</style><div class='table-result-container'><table class='table-result'><thead style='background-color: white'><tr><th>name</th><th>class</th><th>sec</th><th>roll no</th><th>marks</th></tr></thead><tbody><tr><td>abhi.ram</td><td>10</td><td>A</td><td>1</td><td>100</td></tr><tr><td>bharat.kumar</td><td>10</td><td>A</td><td>2</td><td>90</td></tr><tr><td>charan.ram</td><td>10</td><td>A</td><td>3</td><td>80</td></tr><tr><td>dinesh.kumar</td><td>10</td><td>B</td><td>4</td><td>70</td></tr><tr><td>eshwer.sundar</td><td>10</td><td>B</td><td>5</td><td>60</td></tr><tr><td>faraz.shaikh</td><td>10</td><td>B</td><td>6</td><td>50</td></tr></tbody></table></div>"
      ]
     },
     "metadata": {
      "application/vnd.databricks.v1+output": {
       "addedWidgets": {},
       "aggData": [],
       "aggError": "",
       "aggOverflow": false,
       "aggSchema": [],
       "aggSeriesLimitReached": false,
       "aggType": "",
       "arguments": {},
       "columnCustomDisplayInfos": {},
       "data": [
        [
         "abhi.ram",
         "10",
         "A",
         "1",
         "100"
        ],
        [
         "bharat.kumar",
         "10",
         "A",
         "2",
         "90"
        ],
        [
         "charan.ram",
         "10",
         "A",
         "3",
         "80"
        ],
        [
         "dinesh.kumar",
         "10",
         "B",
         "4",
         "70"
        ],
        [
         "eshwer.sundar",
         "10",
         "B",
         "5",
         "60"
        ],
        [
         "faraz.shaikh",
         "10",
         "B",
         "6",
         "50"
        ]
       ],
       "datasetInfos": [],
       "dbfsResultPath": null,
       "isJsonSchema": true,
       "metadata": {
        "isDbfsCommandResult": false
       },
       "overflow": false,
       "plotOptions": {
        "customPlotOptions": {},
        "displayType": "table",
        "pivotAggregation": null,
        "pivotColumns": null,
        "xColumns": null,
        "yColumns": null
       },
       "removedWidgets": [],
       "schema": [
        {
         "metadata": "{}",
         "name": "name",
         "type": "\"string\""
        },
        {
         "metadata": "{}",
         "name": "class",
         "type": "\"string\""
        },
        {
         "metadata": "{}",
         "name": "sec",
         "type": "\"string\""
        },
        {
         "metadata": "{}",
         "name": "roll no",
         "type": "\"string\""
        },
        {
         "metadata": "{}",
         "name": "marks",
         "type": "\"string\""
        }
       ],
       "type": "table"
      }
     },
     "output_type": "display_data"
    }
   ],
   "source": [
    "%sql\n",
    "SELECT * FROM Classroom"
   ]
  },
  {
   "cell_type": "code",
   "execution_count": 0,
   "metadata": {
    "application/vnd.databricks.v1+cell": {
     "cellMetadata": {
      "byteLimit": 2048000,
      "rowLimit": 10000
     },
     "inputWidgets": {},
     "nuid": "7ce63222-ec36-446a-bcbb-37c17617addf",
     "showTitle": false,
     "title": ""
    }
   },
   "outputs": [
    {
     "output_type": "display_data",
     "data": {
      "text/html": [
       "<style scoped>\n",
       "  .table-result-container {\n",
       "    max-height: 300px;\n",
       "    overflow: auto;\n",
       "  }\n",
       "  table, th, td {\n",
       "    border: 1px solid black;\n",
       "    border-collapse: collapse;\n",
       "  }\n",
       "  th, td {\n",
       "    padding: 5px;\n",
       "  }\n",
       "  th {\n",
       "    text-align: left;\n",
       "  }\n",
       "</style><div class='table-result-container'><table class='table-result'><thead style='background-color: white'><tr></tr></thead><tbody></tbody></table></div>"
      ]
     },
     "metadata": {
      "application/vnd.databricks.v1+output": {
       "addedWidgets": {},
       "aggData": [],
       "aggError": "",
       "aggOverflow": false,
       "aggSchema": [],
       "aggSeriesLimitReached": false,
       "aggType": "",
       "arguments": {},
       "columnCustomDisplayInfos": {},
       "data": [],
       "datasetInfos": [],
       "dbfsResultPath": null,
       "isJsonSchema": true,
       "metadata": {
        "isDbfsCommandResult": false
       },
       "overflow": false,
       "plotOptions": {
        "customPlotOptions": {},
        "displayType": "table",
        "pivotAggregation": null,
        "pivotColumns": null,
        "xColumns": null,
        "yColumns": null
       },
       "removedWidgets": [
        "NamesMS"
       ],
       "schema": [],
       "type": "table"
      }
     },
     "output_type": "display_data"
    }
   ],
   "source": [
    "%sql\n",
    "-- REMOVE WIDGET NamesMS\n",
    "CREATE WIDGET COMBOBOX NamesCB DEFAULT 'Abhi' CHOICES SELECT name FROM Classroom"
   ]
  },
  {
   "cell_type": "code",
   "execution_count": 0,
   "metadata": {
    "application/vnd.databricks.v1+cell": {
     "cellMetadata": {
      "byteLimit": 2048000,
      "rowLimit": 10000
     },
     "inputWidgets": {},
     "nuid": "d8af3d65-a680-4f42-b65d-78b786f044d5",
     "showTitle": false,
     "title": ""
    }
   },
   "outputs": [
    {
     "output_type": "display_data",
     "data": {
      "text/html": [
       "<style scoped>\n",
       "  .table-result-container {\n",
       "    max-height: 300px;\n",
       "    overflow: auto;\n",
       "  }\n",
       "  table, th, td {\n",
       "    border: 1px solid black;\n",
       "    border-collapse: collapse;\n",
       "  }\n",
       "  th, td {\n",
       "    padding: 5px;\n",
       "  }\n",
       "  th {\n",
       "    text-align: left;\n",
       "  }\n",
       "</style><div class='table-result-container'><table class='table-result'><thead style='background-color: white'><tr></tr></thead><tbody></tbody></table></div>"
      ]
     },
     "metadata": {
      "application/vnd.databricks.v1+output": {
       "addedWidgets": {
        "NamesDD": {
         "defaultValue": "abhi.ram",
         "label": null,
         "name": "NamesDD",
         "options": {
          "autoCreated": null,
          "choices": [
           "abhi.ram",
           "bharat.kumar",
           "charan.ram",
           "dinesh.kumar",
           "eshwer.sundar",
           "faraz.shaikh"
          ],
          "widgetType": "dropdown"
         },
         "widgetType": "dropdown"
        }
       },
       "aggData": [],
       "aggError": "",
       "aggOverflow": false,
       "aggSchema": [],
       "aggSeriesLimitReached": false,
       "aggType": "",
       "arguments": {},
       "columnCustomDisplayInfos": {},
       "data": [],
       "datasetInfos": [],
       "dbfsResultPath": null,
       "isJsonSchema": true,
       "metadata": {
        "isDbfsCommandResult": false
       },
       "overflow": false,
       "plotOptions": {
        "customPlotOptions": {},
        "displayType": "table",
        "pivotAggregation": null,
        "pivotColumns": null,
        "xColumns": null,
        "yColumns": null
       },
       "removedWidgets": [],
       "schema": [],
       "type": "table"
      }
     },
     "output_type": "display_data"
    }
   ],
   "source": [
    "%sql\n",
    "CREATE WIDGET DROPDOWN NamesDD DEFAULT 'abhi.ram' CHOICES SELECT name FROM Classroom"
   ]
  },
  {
   "cell_type": "code",
   "execution_count": 0,
   "metadata": {
    "application/vnd.databricks.v1+cell": {
     "cellMetadata": {
      "byteLimit": 2048000,
      "rowLimit": 10000
     },
     "inputWidgets": {},
     "nuid": "f9c12660-f561-4dfc-91f9-f712d0566b59",
     "showTitle": false,
     "title": ""
    }
   },
   "outputs": [
    {
     "output_type": "display_data",
     "data": {
      "text/html": [
       "<style scoped>\n",
       "  .table-result-container {\n",
       "    max-height: 300px;\n",
       "    overflow: auto;\n",
       "  }\n",
       "  table, th, td {\n",
       "    border: 1px solid black;\n",
       "    border-collapse: collapse;\n",
       "  }\n",
       "  th, td {\n",
       "    padding: 5px;\n",
       "  }\n",
       "  th {\n",
       "    text-align: left;\n",
       "  }\n",
       "</style><div class='table-result-container'><table class='table-result'><thead style='background-color: white'><tr></tr></thead><tbody></tbody></table></div>"
      ]
     },
     "metadata": {
      "application/vnd.databricks.v1+output": {
       "addedWidgets": {
        "SectionMS": {
         "defaultValue": "A",
         "label": null,
         "name": "SectionMS",
         "options": {
          "autoCreated": null,
          "choices": [
           "B",
           "A"
          ],
          "widgetType": "dropdown"
         },
         "widgetType": "multiselect"
        }
       },
       "aggData": [],
       "aggError": "",
       "aggOverflow": false,
       "aggSchema": [],
       "aggSeriesLimitReached": false,
       "aggType": "",
       "arguments": {},
       "columnCustomDisplayInfos": {},
       "data": [],
       "datasetInfos": [],
       "dbfsResultPath": null,
       "isJsonSchema": true,
       "metadata": {
        "isDbfsCommandResult": false
       },
       "overflow": false,
       "plotOptions": {
        "customPlotOptions": {},
        "displayType": "table",
        "pivotAggregation": null,
        "pivotColumns": null,
        "xColumns": null,
        "yColumns": null
       },
       "removedWidgets": [],
       "schema": [],
       "type": "table"
      }
     },
     "output_type": "display_data"
    }
   ],
   "source": [
    "%sql\n",
    "CREATE WIDGET MULTISELECT SectionMS DEFAULT 'A' CHOICES SELECT DISTINCT sec FROM Classroom"
   ]
  },
  {
   "cell_type": "code",
   "execution_count": 0,
   "metadata": {
    "application/vnd.databricks.v1+cell": {
     "cellMetadata": {
      "byteLimit": 2048000,
      "rowLimit": 10000
     },
     "inputWidgets": {},
     "nuid": "4e46af96-1022-451b-85c8-91cf072481f5",
     "showTitle": false,
     "title": ""
    }
   },
   "outputs": [
    {
     "output_type": "display_data",
     "data": {
      "text/html": [
       "<style scoped>\n",
       "  .table-result-container {\n",
       "    max-height: 300px;\n",
       "    overflow: auto;\n",
       "  }\n",
       "  table, th, td {\n",
       "    border: 1px solid black;\n",
       "    border-collapse: collapse;\n",
       "  }\n",
       "  th, td {\n",
       "    padding: 5px;\n",
       "  }\n",
       "  th {\n",
       "    text-align: left;\n",
       "  }\n",
       "</style><div class='table-result-container'><table class='table-result'><thead style='background-color: white'><tr></tr></thead><tbody></tbody></table></div>"
      ]
     },
     "metadata": {
      "application/vnd.databricks.v1+output": {
       "addedWidgets": {
        "SectionTxt": {
         "defaultValue": "A",
         "label": null,
         "name": "SectionTxt",
         "options": {
          "autoCreated": null,
          "validationRegex": null,
          "widgetType": "text"
         },
         "widgetType": "text"
        }
       },
       "aggData": [],
       "aggError": "",
       "aggOverflow": false,
       "aggSchema": [],
       "aggSeriesLimitReached": false,
       "aggType": "",
       "arguments": {},
       "columnCustomDisplayInfos": {},
       "data": [],
       "datasetInfos": [],
       "dbfsResultPath": null,
       "isJsonSchema": true,
       "metadata": {
        "isDbfsCommandResult": false
       },
       "overflow": false,
       "plotOptions": {
        "customPlotOptions": {},
        "displayType": "table",
        "pivotAggregation": null,
        "pivotColumns": null,
        "xColumns": null,
        "yColumns": null
       },
       "removedWidgets": [],
       "schema": [],
       "type": "table"
      }
     },
     "output_type": "display_data"
    }
   ],
   "source": [
    "%sql\n",
    "CREATE WIDGET TEXT SectionTxt DEFAULT 'A'"
   ]
  },
  {
   "cell_type": "code",
   "execution_count": 0,
   "metadata": {
    "application/vnd.databricks.v1+cell": {
     "cellMetadata": {},
     "inputWidgets": {},
     "nuid": "83fdd75a-92fb-4e3c-9936-91e0c3a92f8e",
     "showTitle": false,
     "title": ""
    }
   },
   "outputs": [],
   "source": []
  }
 ],
 "metadata": {
  "application/vnd.databricks.v1+notebook": {
   "dashboards": [],
   "language": "python",
   "notebookMetadata": {
    "pythonIndentUnit": 4,
    "widgetLayout": []
   },
   "notebookName": "dbutils Widgets Using SQL Notebook",
   "widgets": {
    "NamesCB": {
     "currentValue": "",
     "nuid": "1856956c-4d00-44e6-a5d8-2b134132ba2d",
     "typedWidgetInfo": null,
     "widgetInfo": {
      "widgetType": "combobox",
      "defaultValue": "Abhi",
      "label": null,
      "name": "NamesCB",
      "options": {
       "widgetType": "dropdown",
       "autoCreated": null,
       "choices": [
        "abhi.ram",
        "bharat.kumar",
        "charan.ram",
        "dinesh.kumar",
        "eshwer.sundar",
        "faraz.shaikh"
       ]
      }
     }
    },
    "NamesDD": {
     "currentValue": "abhi.ram",
     "nuid": "03ff0b9a-20ac-464b-a3a9-584e9a9d5d6f",
     "typedWidgetInfo": null,
     "widgetInfo": {
      "widgetType": "dropdown",
      "defaultValue": "abhi.ram",
      "label": null,
      "name": "NamesDD",
      "options": {
       "widgetType": "dropdown",
       "autoCreated": null,
       "choices": [
        "abhi.ram",
        "bharat.kumar",
        "charan.ram",
        "dinesh.kumar",
        "eshwer.sundar",
        "faraz.shaikh"
       ]
      }
     }
    },
    "SectionMS": {
     "currentValue": "A",
     "nuid": "a0ddec49-7c4d-41e9-98dc-e287cd148891",
     "typedWidgetInfo": null,
     "widgetInfo": {
      "widgetType": "multiselect",
      "defaultValue": "A",
      "label": null,
      "name": "SectionMS",
      "options": {
       "widgetType": "dropdown",
       "autoCreated": null,
       "choices": [
        "B",
        "A"
       ]
      }
     }
    },
    "SectionTxt": {
     "currentValue": "A",
     "nuid": "3d3a72cb-b12f-4e06-b76a-4f070744206e",
     "typedWidgetInfo": null,
     "widgetInfo": {
      "widgetType": "text",
      "defaultValue": "A",
      "label": null,
      "name": "SectionTxt",
      "options": {
       "widgetType": "text",
       "autoCreated": null,
       "validationRegex": null
      }
     }
    }
   }
  }
 },
 "nbformat": 4,
 "nbformat_minor": 0
}
